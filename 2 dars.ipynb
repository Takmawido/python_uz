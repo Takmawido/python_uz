{
 "cells": [
  {
   "cell_type": "code",
   "execution_count": 7,
   "id": "8d1838fd",
   "metadata": {},
   "outputs": [
    {
     "name": "stdout",
     "output_type": "stream",
     "text": [
      "Salom uzb, man keldim\n",
      "125.0\n"
     ]
    }
   ],
   "source": [
    "satr_1 = \"Salom\"\n",
    "satr_1 +=  \" uzb\"\n",
    "satr_1 += \", man keldim\"\n",
    "print (satr_1)\n",
    "\n",
    "raqam = 2\n",
    "raqam += 3\n",
    "raqam *= 2\n",
    "raqam /= 2\n",
    "raqam **= 3\n",
    "print (raqam)\n",
    "\n",
    "# tugadi..."
   ]
  },
  {
   "cell_type": "code",
   "execution_count": 40,
   "id": "15bb7c07",
   "metadata": {},
   "outputs": [
    {
     "name": "stdout",
     "output_type": "stream",
     "text": [
      "*********\n",
      "*\n",
      "*\n",
      "*********\n",
      "\t*\n",
      "\t*\n",
      "*********\n"
     ]
    }
   ],
   "source": [
    "print (\"*********\\n*\\n*\\n*********\\n\\t*\\n\\t*\\n*********\") #besh raqami 2mashq "
   ]
  },
  {
   "cell_type": "markdown",
   "id": "9fd72999",
   "metadata": {},
   "source": []
  },
  {
   "cell_type": "code",
   "execution_count": 45,
   "id": "4d547bd9",
   "metadata": {},
   "outputs": [
    {
     "name": "stdout",
     "output_type": "stream",
     "text": [
      "Ismingizni kiriting Firdavs\n",
      "Familiyangizni kiriting Sharopov\n",
      "Salom, Firdavs Sharopov, siz bilan tanishganimdan hursandman!\n"
     ]
    }
   ],
   "source": [
    "ismi = input  (\"Ismingizni kiriting \")\n",
    "familiyasi = input (\"Familiyangizni kiriting \")\n",
    "print (f\"Salom, {ismi} {familiyasi}, siz bilan tanishganimdan hursandman!\" )"
   ]
  },
  {
   "cell_type": "code",
   "execution_count": 46,
   "id": "7761bff0",
   "metadata": {},
   "outputs": [
    {
     "name": "stdout",
     "output_type": "stream",
     "text": [
      "Azizning Jasur ismli do'sti va Vali ismli ukasi bor\n",
      "Jasurning Vali ismli do'sti va Aziz ismli ukasi bor\n"
     ]
    }
   ],
   "source": [
    "#format metodi\n",
    "print (\"{}ning {} ismli do'sti va {} ismli ukasi bor\" . format (\"Aziz\" , \"Jasur\" , \"Vali\"))\n",
    "print (\"{1}ning {2} ismli do'sti va {0} ismli ukasi bor\" . format (\"Aziz\" , \"Jasur\" , \"Vali\"))"
   ]
  },
  {
   "cell_type": "code",
   "execution_count": null,
   "id": "ab346396",
   "metadata": {},
   "outputs": [],
   "source": []
  }
 ],
 "metadata": {
  "kernelspec": {
   "display_name": "Python 3",
   "language": "python",
   "name": "python3"
  },
  "language_info": {
   "codemirror_mode": {
    "name": "ipython",
    "version": 3
   },
   "file_extension": ".py",
   "mimetype": "text/x-python",
   "name": "python",
   "nbconvert_exporter": "python",
   "pygments_lexer": "ipython3",
   "version": "3.8.8"
  }
 },
 "nbformat": 4,
 "nbformat_minor": 5
}
